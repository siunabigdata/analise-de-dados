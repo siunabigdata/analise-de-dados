{
 "metadata": {
  "language_info": {
   "codemirror_mode": {
    "name": "ipython",
    "version": 3
   },
   "file_extension": ".py",
   "mimetype": "text/x-python",
   "name": "python",
   "nbconvert_exporter": "python",
   "pygments_lexer": "ipython3",
   "version": "3.9.0-final"
  },
  "orig_nbformat": 2,
  "kernelspec": {
   "name": "python3",
   "display_name": "Python 3.9.0 64-bit",
   "metadata": {
    "interpreter": {
     "hash": "ac59ebe37160ed0dfa835113d9b8498d9f09ceb179beaac4002f036b9467c963"
    }
   }
  }
 },
 "nbformat": 4,
 "nbformat_minor": 2,
 "cells": [
  {
   "source": [
    "# Inserir na Tabela Categoria"
   ],
   "cell_type": "markdown",
   "metadata": {}
  },
  {
   "cell_type": "code",
   "execution_count": 1,
   "metadata": {},
   "outputs": [],
   "source": [
    "# Importar biblioteca pyodbc:\n",
    "import pyodbc"
   ]
  },
  {
   "cell_type": "code",
   "execution_count": 2,
   "metadata": {},
   "outputs": [],
   "source": [
    "# classe de conexão de dados\n",
    "class Connection():\n",
    "    server = '.\\SQLEXPRESS'\n",
    "    database = 'empresa'\n",
    "\n",
    "    def connect(self):\n",
    "        return pyodbc.connect(\n",
    "            Trusted_Connection='yes', \n",
    "            driver='{ODBC Driver 17 for SQL Server}', \n",
    "            server=self.server,\n",
    "            database=self.database)"
   ]
  },
  {
   "cell_type": "code",
   "execution_count": 4,
   "metadata": {},
   "outputs": [],
   "source": [
    "# Instanciar um objeto da classe para conexão com o banco de dados:\n",
    "bd = Connection()\n",
    "# Pegar uma conexão com o banco de dados:\n",
    "conexao = bd.connect()"
   ]
  },
  {
   "cell_type": "code",
   "execution_count": 13,
   "metadata": {},
   "outputs": [
    {
     "output_type": "error",
     "ename": "IndentationError",
     "evalue": "unexpected indent (<ipython-input-13-886a0a3dfa40>, line 8)",
     "traceback": [
      "\u001b[1;36m  File \u001b[1;32m\"<ipython-input-13-886a0a3dfa40>\"\u001b[1;36m, line \u001b[1;32m8\u001b[0m\n\u001b[1;33m    nome = input (\"Informe o nome da categoria: \")\u001b[0m\n\u001b[1;37m    ^\u001b[0m\n\u001b[1;31mIndentationError\u001b[0m\u001b[1;31m:\u001b[0m unexpected indent\n"
     ]
    }
   ],
   "source": [
    "# Classe Categoria:\n",
    "class Categoria:\n",
    "    def __init__ (self, conexao):\n",
    "        self.conexao = conexao\n",
    "\n",
    "    def inserir(self):\n",
    "        dml = \"insert into Categoria (nome, descricao) values (?, ?);\"\n",
    "        nome = input (\"Informe o nome da categoria: \")\n",
    "        descricao = input (\"Informe a descrição da categoria: \")\n",
    "        parametros = tuple ((nome, descricao))\n",
    "        with self.conexao:\n",
    "            cursor = self.conexao.cursor ()\n",
    "            cursor.execute (dml, parametros)\n",
    "            # self.conexao.commit ()\n",
    "            sql = \"select * from Categoria;\"\n",
    "            cursor.execute (sql)\n",
    "            linha = cursor.fetchall ()\n",
    "            return linha"
   ]
  },
  {
   "cell_type": "code",
   "execution_count": 12,
   "metadata": {},
   "outputs": [
    {
     "output_type": "stream",
     "name": "stdout",
     "text": [
      "(1, 'celulares', 'telefones celulares')\n"
     ]
    }
   ],
   "source": [
    "# Instaciar objeto da classe Categoria:\n",
    "categoria = Categoria (conexao)\n",
    "# Inserir um registro no banco de dados:\n",
    "linha = categoria.inserir()\n",
    "# Apresentar na tela o registro inserido no banco de dados:\n",
    "print (linha)"
   ]
  },
  {
   "cell_type": "code",
   "execution_count": null,
   "metadata": {},
   "outputs": [],
   "source": []
  }
 ]
}