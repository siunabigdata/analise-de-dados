{
 "metadata": {
  "language_info": {
   "codemirror_mode": {
    "name": "ipython",
    "version": 3
   },
   "file_extension": ".py",
   "mimetype": "text/x-python",
   "name": "python",
   "nbconvert_exporter": "python",
   "pygments_lexer": "ipython3",
   "version": "3.9.0-final"
  },
  "orig_nbformat": 2,
  "kernelspec": {
   "name": "python3",
   "display_name": "Python 3.9.0 64-bit",
   "metadata": {
    "interpreter": {
     "hash": "ac59ebe37160ed0dfa835113d9b8498d9f09ceb179beaac4002f036b9467c963"
    }
   }
  }
 },
 "nbformat": 4,
 "nbformat_minor": 2,
 "cells": [
  {
   "cell_type": "code",
   "execution_count": 25,
   "metadata": {},
   "outputs": [],
   "source": [
    "import pyodbc\n",
    "import pandas as pd"
   ]
  },
  {
   "cell_type": "code",
   "execution_count": 28,
   "metadata": {},
   "outputs": [],
   "source": [
    "# classe de conexão de dados\n",
    "class Connection():\n",
    "    server = '.\\SQLEXPRESS'\n",
    "    database = 'empresa'\n",
    "\n",
    "    def connect(self):\n",
    "        return pyodbc.connect(\n",
    "            Trusted_Connection='yes', \n",
    "            driver='{ODBC Driver 17 for SQL Server}', \n",
    "            server=self.server,\n",
    "            database=self.database)"
   ]
  },
  {
   "cell_type": "code",
   "execution_count": 29,
   "metadata": {},
   "outputs": [],
   "source": [
    "db = Connection()\n",
    "c = db.connect()"
   ]
  },
  {
   "cell_type": "code",
   "execution_count": 30,
   "metadata": {},
   "outputs": [],
   "source": [
    "class Categoria:\n",
    " def __init__ (self, conexao):\n",
    "    self.conexao = conexao\n",
    " \n",
    " def inserir (self):\n",
    "    dml = \"insert into Categoria (nome, descricao) values (?,?)\"\n",
    "    \n",
    "    params = [('Telefonia', 'Aparelho telefônico'),\n",
    "                ('Informática', 'Computador portátil'),\n",
    "                ('Roupa', 'Vestuário'),\n",
    "                ('Calçado', 'Vestuário')]\n",
    "    with self.conexao:\n",
    "        cursor = self.conexao.cursor()\n",
    "        for p in params:\n",
    "            cursor.execute(dml, p)"
   ]
  },
  {
   "cell_type": "code",
   "execution_count": 31,
   "metadata": {},
   "outputs": [],
   "source": [
    "Categoria(c).inserir()"
   ]
  },
  {
   "cell_type": "code",
   "execution_count": 43,
   "metadata": {},
   "outputs": [
    {
     "output_type": "stream",
     "name": "stdout",
     "text": [
      "     Produto    Categoria  Qtde   Preço\n0      Calça        Roupa     0    87.0\n1      Calça        Roupa     2    88.0\n2      Calça        Roupa     8    78.0\n3     Camisa        Roupa     0    40.0\n4     Camisa        Roupa    10    45.0\n5     Camisa        Roupa    10    50.0\n6    Celular    Telefonia     1  5000.0\n7    Celular    Telefonia     2  4000.0\n8    Celular    Telefonia     3  3000.0\n9    Celular    Telefonia     4  1000.0\n10  Notebook  Informática     3  5000.0\n11  Notebook  Informática     5  4000.0\n12  Notebook  Informática     6  3000.0\n13     Tênis      Calçado     2   110.0\n14     Tênis      Calçado     3   120.0\n<class 'pandas.core.frame.DataFrame'>\n"
     ]
    }
   ],
   "source": [
    "class Vendedor:\n",
    "    def __init__(self, conexao):\n",
    "        self.conexao = conexao\n",
    "    \n",
    "    def inserir(self):\n",
    "        dml = \"insert into Vendedor (cpf, nome, email, telefone, endereco) values (?,?,?,?,?)\"\n",
    "        params = [\n",
    "            ('111.111.111-11', 'Ana', 'ana@ana.com.br', '(11) 1 1111-1111', 'Rua n.1, n. 1, Bairro 1, Cidade 1, MG'),\n",
    "            ('222.222.222-22', 'Bruno', 'bruno@bruno.com.br', '(22) 2 2222-2222', 'Rua n.2, n. 2, Bairro 2, Cidade 2, MG'),\n",
    "            ('333.333.333-33', 'Carla', 'carla@carla.com.br', '(33) 3 3333-3333', 'Rua n.3, n. 3, Bairro 3, Cidade 3, MG'),\n",
    "            ('444.444.444-44', 'Diego', 'diego@diego.com.br', '(44) 4 4444-4444', 'Rua n.4, n. 4, Bairro 4, Cidade 4, MG'),\n",
    "            ('555.555.555-55', 'Elis', 'elis@elis.com.br', '(55) 5 5555-5555', 'Rua n.5, n. 5, Bairro 5, Cidade 5, MG'),\n",
    "            ('666.666.666-66', 'Fábio', 'fabio@fabio.com.br', '(66) 6 6666-6666', 'Rua n.6, n. 6, Bairro 6, Cidade 6, MG'),\n",
    "            ('777.777.777-77', 'Gisele', 'gisele@gisele.com.br', '(77) 7 7777-7777', 'Rua n.7, n. 7, Bairro 7, Cidade 7, MG'),\n",
    "            ('888.888.888-88', 'Heitor', 'heitor@heitor.com.br', '(88) 8 8888-8888', 'Rua n.8, n. 8, Bairro 8, Cidade 8, MG'),\n",
    "            ('999.999.999-99', 'Iris', 'iris@iris.com.br', '(99) 9 9999-9999', 'Rua n.9, n. 9, Bairro 9, Cidade 9, MG')]\n",
    "        \n",
    "        with self.conexao:\n",
    "            cursor = self.conexao.cursor()\n",
    "            for p in params:\n",
    "                cursor.execute(dml, p)\n",
    "\n",
    "\n",
    "    def buscar(self):\n",
    "        sql = '''select p.nome as Produto, c.nome as Categoria, vp.quantidade as Qtde, vp.preco \n",
    "        as Preço\n",
    "        from Produto p, Categoria c, VendedorProduto vp\n",
    "            where vp.id_produto = p.id and\n",
    "            p.id_categoria = c.id\n",
    "             group by p.nome, c.nome, vp.quantidade, vp.preco\n",
    "            '''\n",
    "        data_frame = pd.read_sql_query (sql, self.conexao)\n",
    "        print (data_frame)\n",
    "        print (type (data_frame))\n",
    "\n",
    "    def pesquisaPandas(self):\n",
    "        sql = ''' select v.cpf as CPF, v.nome as Vendedor,\n",
    "                p.nome as Produto, p.marca as Marca,\n",
    "                c.nome as Categoria,\n",
    "                vp.quantidade as Qtde, vp.preco as Preço\n",
    "                from Vendedor v, VendedorProduto vp, Produto p, Categoria c\n",
    "                where v.cpf = vp.cpf_vendedor and\n",
    "                vp.id = p.id and\n",
    "                p.id_categoria = c.id;\n",
    "                '''\n",
    "        data_frame = pd.read_sql_query (sql, self.conexao)\n",
    "        print (data_frame)\n",
    "        print (type (data_frame))\n",
    "\n",
    "Vendedor(c).buscar()"
   ]
  },
  {
   "cell_type": "code",
   "execution_count": 34,
   "metadata": {},
   "outputs": [],
   "source": [
    "class Produto:\n",
    "    def __init__(self, conecxao):\n",
    "        self.conecxao = conecxao\n",
    "\n",
    "    def inserir(self):\n",
    "        dml = \"insert into Produto (nome, descricao, marca, id_categoria) values (?,?,?,?)\"\n",
    "        params = [\n",
    "            ('Celular', 'Celular 1', 'Apple', 1),\n",
    "            ('Celular', 'Celular 2', 'Samsung', 1),\n",
    "            ('Celular', 'Celular 3', 'Xiaomi', 1),\n",
    "            ('Notebook', 'Notebook 1', 'Apple', 2),\n",
    "            ('Notebook', 'Notebook 2', 'Samsung', 2),\n",
    "            ('Notebook', 'Notebook 3', 'Xiaomi', 2),\n",
    "            ('Camisa', 'Camisa 1', 'Nike', 3),\n",
    "            ('Calça', 'Calça 1', 'Nike', 3),\n",
    "            ('Tênis', 'Tênis 1', 'Nike', 4),\n",
    "            ('Camisa', 'Camisa 2', 'Adidas', 3),\n",
    "            ('Calça', 'Calça 2', 'Adidas', 3),\n",
    "            ('Tênis', 'Tênis 2', 'Adidas', 4),\n",
    "            ('Camisa', 'Camisa 3', 'Zara', 3),\n",
    "            ('Calça', 'Calça 3', 'Zara', 3),\n",
    "            ('Tênis', 'Tênis 3', 'Zara', 4)\n",
    "        ];\n",
    "\n",
    "        with self.conecxao:\n",
    "            cursor = self.conecxao.cursor()\n",
    "            for p in params:\n",
    "                cursor.execute(dml, p)\n",
    "\n",
    "\n",
    "Produto(c).inserir()"
   ]
  },
  {
   "cell_type": "code",
   "execution_count": 35,
   "metadata": {},
   "outputs": [],
   "source": [
    "class VendedorProduto:\n",
    "    def __init__ (self, conexao):\n",
    "        self.conexao = conexao\n",
    "\n",
    "    def inserir(self):\n",
    "        dml = \"insert into VendedorProduto (cpf_vendedor, id_produto, quantidade, preco) values (?,?,?,?)\"\n",
    "        params = [\n",
    "            ('111.111.111-11', 1, 2, 4000),\n",
    "            ('111.111.111-11', 2, 3, 3000),\n",
    "            ('111.111.111-11', 3, 4, 1000),\n",
    "            ('111.111.111-11', 12, 2, 110),\n",
    "            ('222.222.222-22', 4, 3, 5000),\n",
    "            ('222.222.222-22', 5, 5, 4000),\n",
    "            ('222.222.222-22', 6, 6, 3000),\n",
    "            ('333.333.333-33', 7, 10, 50),\n",
    "            ('333.333.333-33', 14, 2, 88),\n",
    "            ('555.555.555-55', 7, 10, 45),\n",
    "            ('666.666.666-66', 9, 3, 120),\n",
    "            ('666.666.666-66', 14, 8, 78),\n",
    "            ('888.888.888-88', 10, 0, 40),\n",
    "            ('999.999.999-99', 11, 0, 87),\n",
    "            ('999.999.999-99', 1, 1, 5000)\n",
    "        ]\n",
    "\n",
    "        with self.conexao:\n",
    "            cursor = self.conexao.cursor()\n",
    "            for p in params:\n",
    "                cursor.execute(dml, p);\n",
    "            \n",
    "\n",
    "VendedorProduto(c).inserir()"
   ]
  },
  {
   "cell_type": "code",
   "execution_count": null,
   "metadata": {},
   "outputs": [],
   "source": []
  }
 ]
}