{
 "metadata": {
  "language_info": {
   "codemirror_mode": {
    "name": "ipython",
    "version": 3
   },
   "file_extension": ".py",
   "mimetype": "text/x-python",
   "name": "python",
   "nbconvert_exporter": "python",
   "pygments_lexer": "ipython3",
   "version": "3.9.0-final"
  },
  "orig_nbformat": 2,
  "kernelspec": {
   "name": "python3",
   "display_name": "Python 3.9.0 64-bit",
   "metadata": {
    "interpreter": {
     "hash": "ac59ebe37160ed0dfa835113d9b8498d9f09ceb179beaac4002f036b9467c963"
    }
   }
  }
 },
 "nbformat": 4,
 "nbformat_minor": 2,
 "cells": [
  {
   "source": [
    "# Criar tabela categoria"
   ],
   "cell_type": "markdown",
   "metadata": {}
  },
  {
   "cell_type": "code",
   "execution_count": null,
   "metadata": {},
   "outputs": [],
   "source": [
    "# importa lid pyodbc\n",
    "import pyodbc"
   ]
  },
  {
   "cell_type": "code",
   "execution_count": null,
   "metadata": {},
   "outputs": [],
   "source": [
    "# classe de conexão de dados\n",
    "class Connection():\n",
    "    server = '.\\SQLEXPRESS'\n",
    "    database = 'empresa'\n",
    "\n",
    "    def connect(self):\n",
    "        return pyodbc.connect(\n",
    "            Trusted_Connection='yes', \n",
    "            driver='{ODBC Driver 17 for SQL Server}', \n",
    "            server=self.server,\n",
    "            database=self.database)\n"
   ]
  },
  {
   "cell_type": "code",
   "execution_count": null,
   "metadata": {},
   "outputs": [],
   "source": [
    "# pegar a conexão com o banco de dados\n",
    "db = Connection()\n",
    "c = db.connect()"
   ]
  },
  {
   "cell_type": "code",
   "execution_count": null,
   "metadata": {},
   "outputs": [],
   "source": [
    "# Classe categoria\n",
    "\n",
    "class Categoria:\n",
    "    def __init__(self, connection):\n",
    "        self.connection = connection\n",
    "\n",
    "    def criar(self):\n",
    "        ddl = ''' create table Categoria(\n",
    "            id int primary key identity(1,1),\n",
    "            -- identity (inicio, incremento): especifica o valor inicial e de incremento.\n",
    "            nome varchar(32),\n",
    "            descricao text\n",
    "        )'''\n",
    "        with self.connection:\n",
    "            self.connection.execute(ddl)"
   ]
  },
  {
   "cell_type": "code",
   "execution_count": null,
   "metadata": {},
   "outputs": [],
   "source": [
    "categoria = Categoria(connection=c)\n",
    "categoria.criar()"
   ]
  },
  {
   "cell_type": "code",
   "execution_count": null,
   "metadata": {},
   "outputs": [],
   "source": []
  }
 ]
}